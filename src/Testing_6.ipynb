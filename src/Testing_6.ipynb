{
 "cells": [
  {
   "cell_type": "markdown",
   "metadata": {},
   "source": [
    "# Testing the Effect of Regularization on the Model"
   ]
  },
  {
   "cell_type": "markdown",
   "metadata": {},
   "source": [
    "Import Libraries"
   ]
  },
  {
   "cell_type": "code",
   "execution_count": null,
   "metadata": {},
   "outputs": [],
   "source": [
    "import numpy as np\n",
    "import matplotlib.pyplot as plt\n",
    "import pandas as pd\n",
    "\n",
    "from sklearn.datasets import fetch_openml\n",
    "from sklearn.neural_network import MLPClassifier\n",
    "from sklearn.metrics import accuracy_score\n",
    "from sklearn.model_selection import train_test_split\n",
    "\n",
    "from FFNN.FFNN import FFNN"
   ]
  },
  {
   "cell_type": "markdown",
   "metadata": {},
   "source": [
    "Import Dataset"
   ]
  },
  {
   "cell_type": "code",
   "execution_count": null,
   "metadata": {},
   "outputs": [],
   "source": [
    "# import dataset MNIST\n",
    "mnist = fetch_openml(name='mnist_784', version=1, as_frame=False)\n",
    "\n",
    "# Separate features (X) and labels (y)\n",
    "X, y = mnist.data, mnist.target\n",
    "\n",
    "# convert label from string to integer\n",
    "y = y.astype(np.uint8)\n",
    "\n",
    "# print dataset info\n",
    "print(f\"Shape X: {X.shape}\")  # (70000, 784)\n",
    "print(f\"Shape y: {y.shape}\")  # (70000,)\n",
    "\n",
    "# split dataset into training and testing sets\n",
    "X_train, X_test, y_train, y_test = train_test_split(X, y, test_size=0.2, random_state=42)\n",
    "print(f\"Train set: {X_train.shape}, Test set: {X_test.shape}\")\n",
    "\n",
    "# normalize the data\n",
    "# pixel values are in range [0, 255], we normalize them to [0, 1]\n",
    "X_train = X_train / 255.0\n",
    "X_test = X_test / 255.0\n",
    "\n",
    "# convert labels to one-hot encoding\n",
    "num_classes = 10  # MNIST have 10 class (0-9)\n",
    "y_train_one_hot = np.eye(num_classes)[y_train]\n",
    "y_test_one_hot = np.eye(num_classes)[y_test]\n",
    "\n",
    "# print the shape of the one-hot encoded labels\n",
    "print(f\"Shape y_train (one-hot): {y_train_one_hot.shape}\")  # (56000, 10)\n",
    "print(f\"Shape y_test (one-hot): {y_test_one_hot.shape}\")    # (14000, 10)"
   ]
  }
 ],
 "metadata": {
  "kernelspec": {
   "display_name": "Python 3",
   "language": "python",
   "name": "python3"
  },
  "language_info": {
   "codemirror_mode": {
    "name": "ipython",
    "version": 3
   },
   "file_extension": ".py",
   "mimetype": "text/x-python",
   "name": "python",
   "nbconvert_exporter": "python",
   "pygments_lexer": "ipython3",
   "version": "3.12.0"
  }
 },
 "nbformat": 4,
 "nbformat_minor": 2
}
