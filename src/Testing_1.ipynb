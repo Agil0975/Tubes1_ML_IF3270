{
 "cells": [
  {
   "cell_type": "markdown",
   "metadata": {},
   "source": [
    "# Testing the Effect of Depth (Number of Layers) on the Model"
   ]
  },
  {
   "cell_type": "markdown",
   "metadata": {},
   "source": [
    "Import Libraries"
   ]
  },
  {
   "cell_type": "code",
   "execution_count": 1,
   "metadata": {},
   "outputs": [],
   "source": [
    "import numpy as np\n",
    "import matplotlib.pyplot as plt\n",
    "import pandas as pd\n",
    "\n",
    "from sklearn.datasets import fetch_openml\n",
    "from sklearn.neural_network import MLPClassifier\n",
    "from sklearn.metrics import accuracy_score\n",
    "from sklearn.model_selection import train_test_split\n",
    "\n",
    "from FFNN.FFNN import FFNN"
   ]
  },
  {
   "cell_type": "markdown",
   "metadata": {},
   "source": [
    "Import Dataset"
   ]
  },
  {
   "cell_type": "code",
   "execution_count": 8,
   "metadata": {},
   "outputs": [
    {
     "name": "stdout",
     "output_type": "stream",
     "text": [
      "Shape X: (70000, 784)\n",
      "Shape y: (70000,)\n",
      "Train set: (56000, 784), Test set: (14000, 784)\n",
      "Shape y_train (one-hot): (56000, 10)\n",
      "Shape y_test (one-hot): (14000, 10)\n",
      "y_train (original): [5 4 8 0 2]\n",
      "y_test (original): [8 4 8 7 7]\n",
      "y_train (one-hot): [[0. 0. 0. 0. 0. 1. 0. 0. 0. 0.]\n",
      " [0. 0. 0. 0. 1. 0. 0. 0. 0. 0.]\n",
      " [0. 0. 0. 0. 0. 0. 0. 0. 1. 0.]\n",
      " [1. 0. 0. 0. 0. 0. 0. 0. 0. 0.]\n",
      " [0. 0. 1. 0. 0. 0. 0. 0. 0. 0.]]\n",
      "y_test (one-hot): [[0. 0. 0. 0. 0. 0. 0. 0. 1. 0.]\n",
      " [0. 0. 0. 0. 1. 0. 0. 0. 0. 0.]\n",
      " [0. 0. 0. 0. 0. 0. 0. 0. 1. 0.]\n",
      " [0. 0. 0. 0. 0. 0. 0. 1. 0. 0.]\n",
      " [0. 0. 0. 0. 0. 0. 0. 1. 0. 0.]]\n"
     ]
    }
   ],
   "source": [
    "# import dataset MNIST\n",
    "mnist = fetch_openml(name='mnist_784', version=1, as_frame=False)\n",
    "\n",
    "# Separate features (X) and labels (y)\n",
    "X, y = mnist.data, mnist.target\n",
    "\n",
    "# convert label from string to integer\n",
    "y = y.astype(np.uint8)\n",
    "\n",
    "# print dataset info\n",
    "print(f\"Shape X: {X.shape}\")  # (70000, 784)\n",
    "print(f\"Shape y: {y.shape}\")  # (70000,)\n",
    "\n",
    "# split dataset into training and testing sets\n",
    "X_train, X_test, y_train, y_test = train_test_split(X, y, test_size=0.2, random_state=42)\n",
    "print(f\"Train set: {X_train.shape}, Test set: {X_test.shape}\")\n",
    "\n",
    "# normalize the data\n",
    "# pixel values are in range [0, 255], we normalize them to [0, 1]\n",
    "X_train = X_train / 255.0\n",
    "X_test = X_test / 255.0\n",
    "\n",
    "# convert labels to one-hot encoding\n",
    "num_classes = 10  # MNIST have 10 class (0-9)\n",
    "y_train_one_hot = np.eye(num_classes)[y_train]\n",
    "y_test_one_hot = np.eye(num_classes)[y_test]\n",
    "\n",
    "# print the shape of the one-hot encoded labels\n",
    "print(f\"Shape y_train (one-hot): {y_train_one_hot.shape}\")  # (56000, 10)\n",
    "print(f\"Shape y_test (one-hot): {y_test_one_hot.shape}\")    # (14000, 10)"
   ]
  },
  {
   "cell_type": "markdown",
   "metadata": {},
   "source": [
    "# Contoh Pelatihan Model"
   ]
  },
  {
   "cell_type": "code",
   "execution_count": 17,
   "metadata": {},
   "outputs": [
    {
     "name": "stdout",
     "output_type": "stream",
     "text": [
      "Epoch 100/100 [==================================================] 100.00%, Train Loss: 0.5292, Val Loss: 0.5283\n",
      "Training completed. Final Train Loss: 0.5292, Val Loss: 0.5283\n",
      "Accuracy of FFNN: 0.6934\n",
      "y_pred (original): [3 9 6 7 7 0 6 2 9 6 1 4 7 3 2 5 9 1 7 3]\n",
      "y_test (original): [8 4 8 7 7 0 6 2 7 4 3 9 9 8 2 5 9 1 7 8]\n"
     ]
    }
   ],
   "source": [
    "model = FFNN()\n",
    "\n",
    "# Add layers to the model\n",
    "model.add_layer(784)\n",
    "model.add_layer(128, activation_function='relu', initialization_method=\"he_normal\")\n",
    "model.add_layer(64, activation_function='relu', initialization_method=\"he_normal\")\n",
    "model.add_layer(10, activation_function='sigmoid', initialization_method=\"xavier_normal\")\n",
    "\n",
    "# Train the model\n",
    "model.train(X_train, y_train_one_hot, X_test, y_test_one_hot, \n",
    "            learning_rate=0.001, batch_size=64, epochs=100, loss_function=\"MSE\", verbose=1, error_threshold=0.001)\n",
    "\n",
    "# Predict the labels for the test set\n",
    "y_pred = model.predict(X_test)\n",
    "y_pred_label = np.argmax(y_pred, axis=1)\n",
    "\n",
    "# Accuracy\n",
    "accuracy = accuracy_score(y_test, y_pred_label)\n",
    "\n",
    "print(f\"Accuracy of FFNN: {accuracy:.4f}\")\n",
    "print(f\"y_pred (original): {y_pred_label[:20]}\")\n",
    "# print(f\"y_pred (one-hot): {y_pred[:20]}\")\n",
    "print(f\"y_test (original): {y_test[:20]}\")\n",
    "# print(f\"y_test (one-hot): {y_test_one_hot[:20]}\")"
   ]
  }
 ],
 "metadata": {
  "kernelspec": {
   "display_name": "Python 3",
   "language": "python",
   "name": "python3"
  },
  "language_info": {
   "codemirror_mode": {
    "name": "ipython",
    "version": 3
   },
   "file_extension": ".py",
   "mimetype": "text/x-python",
   "name": "python",
   "nbconvert_exporter": "python",
   "pygments_lexer": "ipython3",
   "version": "3.12.0"
  }
 },
 "nbformat": 4,
 "nbformat_minor": 2
}
